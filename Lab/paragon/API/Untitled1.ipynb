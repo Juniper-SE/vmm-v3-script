{
 "cells": [
  {
   "cell_type": "code",
   "execution_count": 4,
   "id": "ac53620a-ab55-4eaa-88b5-19b3ea0df896",
   "metadata": {},
   "outputs": [
    {
     "name": "stdout",
     "output_type": "stream",
     "text": [
      "('irzan@juniper.net', 'J4k4rt4#170845')\n",
      "<class 'tuple'>\n"
     ]
    },
    {
     "name": "stderr",
     "output_type": "stream",
     "text": [
      "/Users/irzan/python3/jupyter_lab/lib/python3.13/site-packages/urllib3/connectionpool.py:1097: InsecureRequestWarning: Unverified HTTPS request is being made to host '172.16.12.1'. Adding certificate verification is strongly advised. See: https://urllib3.readthedocs.io/en/latest/advanced-usage.html#tls-warnings\n",
      "  warnings.warn(\n"
     ]
    },
    {
     "name": "stdout",
     "output_type": "stream",
     "text": [
      "status 200\n",
      "content b'[]'\n"
     ]
    }
   ],
   "source": [
    "import requests\n",
    "import json\n",
    "url=\"https://172.16.12.1/api/v1/login\"\n",
    "email=\"irzan@juniper.net\"\n",
    "password=\"J4k4rt4#170845\"\n",
    "data={\n",
    "    'email': email,\n",
    "    'password': password\n",
    "}\n",
    "login_id=(email,password)\n",
    "print(login_id)\n",
    "print(type(login_id))\n",
    "org_id='bf33016a-e5e1-4568-ab8b-46c0548d425e'\n",
    "url = f\"https://172.16.12.1/api/v1/orgs/{org_id}/inventory\"\n",
    "r=requests.get(url,verify=False,auth=login_id)\n",
    "print(f\"status {r.status_code}\")\n",
    "print(f\"content {r.content}\")\n",
    "\n",
    "\n"
   ]
  },
  {
   "cell_type": "code",
   "execution_count": null,
   "id": "6da9ac4c-850a-49ba-ba19-0f83e1af831f",
   "metadata": {},
   "outputs": [],
   "source": []
  }
 ],
 "metadata": {
  "kernelspec": {
   "display_name": "Python 3 (ipykernel)",
   "language": "python",
   "name": "python3"
  },
  "language_info": {
   "codemirror_mode": {
    "name": "ipython",
    "version": 3
   },
   "file_extension": ".py",
   "mimetype": "text/x-python",
   "name": "python",
   "nbconvert_exporter": "python",
   "pygments_lexer": "ipython3",
   "version": "3.13.3"
  }
 },
 "nbformat": 4,
 "nbformat_minor": 5
}
