{
 "cells": [
  {
   "cell_type": "code",
   "execution_count": 4,
   "id": "a2e7341d-b4d8-411a-9eae-37e094255ef4",
   "metadata": {},
   "outputs": [
    {
     "name": "stderr",
     "output_type": "stream",
     "text": [
      "/Users/irzan/python3/jupyter_lab/lib/python3.13/site-packages/urllib3/connectionpool.py:1097: InsecureRequestWarning: Unverified HTTPS request is being made to host '172.16.12.1'. Adding certificate verification is strongly advised. See: https://urllib3.readthedocs.io/en/latest/advanced-usage.html#tls-warnings\n",
      "  warnings.warn(\n"
     ]
    },
    {
     "name": "stdout",
     "output_type": "stream",
     "text": [
      "status 200\n",
      "headers {'Allow': 'POST, OPTIONS', 'Cache-Control': 'no-cache, no-store', 'Content-Length': '39', 'Content-Type': 'application/json', 'Date': 'Wed, 28 May 2025 15:18:48 GMT', 'Pragma': 'no-cache', 'Server': 'nginx', 'Set-Cookie': 'csrftoken=BpjuV2KK9GMqaKrbNDYwbIaOncmW5Jvk5UxtJyBkRGhT9ETitHnqk2Z2rx5DUAC1; expires=Wed, 27 May 2026 15:18:48 GMT; Max-Age=31449600; Path=/; SameSite=Lax; Secure, sessionid=uqkxdi7z23n5u119gsw7677u2jvjymf4; expires=Wed, 11 Jun 2025 15:18:48 GMT; HttpOnly; Max-Age=1209600; Path=/; SameSite=Lax; Secure', 'Vary': 'Accept, Origin, Cookie', 'X-Frame-Options': 'DENY'}\n",
      "csrtoken BpjuV2KK9GMqaKrbNDYwbIaOncmW5Jvk5UxtJyBkRGhT9ETitHnqk2Z2rx5DUAC1\n",
      "url  https://172.16.12.1/api/v1/orgs/bf33016a-e5e1-4568-ab8b-46c0548d425e/inventory\n"
     ]
    },
    {
     "name": "stderr",
     "output_type": "stream",
     "text": [
      "/Users/irzan/python3/jupyter_lab/lib/python3.13/site-packages/urllib3/connectionpool.py:1097: InsecureRequestWarning: Unverified HTTPS request is being made to host '172.16.12.1'. Adding certificate verification is strongly advised. See: https://urllib3.readthedocs.io/en/latest/advanced-usage.html#tls-warnings\n",
      "  warnings.warn(\n"
     ]
    },
    {
     "name": "stdout",
     "output_type": "stream",
     "text": [
      "status 401\n"
     ]
    }
   ],
   "source": [
    "import requests\n",
    "import json\n",
    "url=\"https://172.16.12.1/api/v1/login\"\n",
    "email=\"irzan@juniper.net\"\n",
    "password=\"J4k4rt4#170845\"\n",
    "data={\n",
    "    'email': email,\n",
    "    'password': password\n",
    "}\n",
    "org_id='bf33016a-e5e1-4568-ab8b-46c0548d425e'\n",
    "headers={'Content-type': 'application/json', 'Accept': 'text/plain'}\n",
    "r=requests.post(url,verify=False,data=data)\n",
    "print(f\"status {r.status_code}\")\n",
    "print(f\"headers {r.headers}\")\n",
    "csrtoken=r.headers['Set-Cookie'].split(':')[0].split(';')[0].split('=')[1]\n",
    "print(f\"csrtoken {csrtoken}\")\n",
    "headers={'Content-type': 'application/json', 'Accept': 'text/plain','x-csrftoken':csrtoken}\n",
    "url = f\"https://172.16.12.1/api/v1/orgs/{org_id}/inventory\"\n",
    "print('url ',url)\n",
    "r=requests.post(url,verify=False,data=data)\n",
    "print(f\"status {r.status_code}\")"
   ]
  },
  {
   "cell_type": "code",
   "execution_count": null,
   "id": "b912437f-27b3-426c-b204-e4ea7fbe7f02",
   "metadata": {},
   "outputs": [],
   "source": [
    "import re"
   ]
  }
 ],
 "metadata": {
  "kernelspec": {
   "display_name": "Python 3 (ipykernel)",
   "language": "python",
   "name": "python3"
  },
  "language_info": {
   "codemirror_mode": {
    "name": "ipython",
    "version": 3
   },
   "file_extension": ".py",
   "mimetype": "text/x-python",
   "name": "python",
   "nbconvert_exporter": "python",
   "pygments_lexer": "ipython3",
   "version": "3.13.3"
  }
 },
 "nbformat": 4,
 "nbformat_minor": 5
}
