{
 "cells": [
  {
   "cell_type": "code",
   "execution_count": 28,
   "id": "ba5618ce-7fe1-47fa-984c-cf8a4b6d4cf0",
   "metadata": {},
   "outputs": [
    {
     "name": "stdout",
     "output_type": "stream",
     "text": [
      "http://172.16.12.1/api/v1/orgs/94fdbf5a-222a-43f2-837c-c79418e4fc12/sites\n"
     ]
    },
    {
     "name": "stderr",
     "output_type": "stream",
     "text": [
      "/Users/irzan/python3/jupyter_lab/lib/python3.13/site-packages/urllib3/connectionpool.py:1097: InsecureRequestWarning: Unverified HTTPS request is being made to host '172.16.12.1'. Adding certificate verification is strongly advised. See: https://urllib3.readthedocs.io/en/latest/advanced-usage.html#tls-warnings\n",
      "  warnings.warn(\n"
     ]
    },
    {
     "name": "stdout",
     "output_type": "stream",
     "text": [
      "status 400\n",
      "status {'Allow': 'GET, POST, HEAD, OPTIONS', 'Cache-Control': 'no-cache, no-store', 'Content-Length': '41', 'Content-Type': 'application/json', 'Date': 'Wed, 28 May 2025 16:13:06 GMT', 'Pragma': 'no-cache', 'Server': 'nginx', 'Vary': 'Accept, Origin, Cookie', 'X-Frame-Options': 'DENY'}\n",
      "content {'detail': \"Site name '' is already used\"}\n"
     ]
    }
   ],
   "source": [
    "import requests\n",
    "import json\n",
    "pa_ip='172.16.12.1'\n",
    "email=\"irzan@juniper.net\"\n",
    "password=\"J4k4rt4#170845\"\n",
    "login_id=(email,password)\n",
    "org_id='94fdbf5a-222a-43f2-837c-c79418e4fc12'\n",
    "url = f\"http://{pa_ip}/api/v1/orgs/{org_id}/sites\"\n",
    "print(url)\n",
    "r=requests.post(url,verify=False,auth=login_id)\n",
    "print(f\"status {r.status_code}\")\n",
    "print(f\"status {r.headers}\")\n",
    "r_json=r.json()\n",
    "print(f'content {r_json}')\n"
   ]
  },
  {
   "cell_type": "code",
   "execution_count": null,
   "id": "1f07ccd4-781f-4150-83e9-78598b6e5c68",
   "metadata": {},
   "outputs": [],
   "source": []
  }
 ],
 "metadata": {
  "kernelspec": {
   "display_name": "Python 3 (ipykernel)",
   "language": "python",
   "name": "python3"
  },
  "language_info": {
   "codemirror_mode": {
    "name": "ipython",
    "version": 3
   },
   "file_extension": ".py",
   "mimetype": "text/x-python",
   "name": "python",
   "nbconvert_exporter": "python",
   "pygments_lexer": "ipython3",
   "version": "3.13.3"
  }
 },
 "nbformat": 4,
 "nbformat_minor": 5
}
