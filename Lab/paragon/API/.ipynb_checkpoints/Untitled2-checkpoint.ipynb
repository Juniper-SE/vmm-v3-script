{
 "cells": [
  {
   "cell_type": "code",
   "execution_count": 21,
   "id": "ba5618ce-7fe1-47fa-984c-cf8a4b6d4cf0",
   "metadata": {},
   "outputs": [
    {
     "name": "stdout",
     "output_type": "stream",
     "text": [
      "http://172.16.12.1/api/v1/orgs/94fdbf5a-222a-43f2-837c-c79418e4fc12/sites\n"
     ]
    },
    {
     "name": "stderr",
     "output_type": "stream",
     "text": [
      "/Users/irzan/python3/jupyter_lab/lib/python3.13/site-packages/urllib3/connectionpool.py:1097: InsecureRequestWarning: Unverified HTTPS request is being made to host '172.16.12.1'. Adding certificate verification is strongly advised. See: https://urllib3.readthedocs.io/en/latest/advanced-usage.html#tls-warnings\n",
      "  warnings.warn(\n"
     ]
    },
    {
     "name": "stdout",
     "output_type": "stream",
     "text": [
      "status 200\n"
     ]
    },
    {
     "ename": "TypeError",
     "evalue": "list indices must be integers or slices, not str",
     "output_type": "error",
     "traceback": [
      "\u001b[31m---------------------------------------------------------------------------\u001b[39m",
      "\u001b[31mTypeError\u001b[39m                                 Traceback (most recent call last)",
      "\u001b[36mCell\u001b[39m\u001b[36m \u001b[39m\u001b[32mIn[21]\u001b[39m\u001b[32m, line 13\u001b[39m\n\u001b[32m     11\u001b[39m \u001b[38;5;28mprint\u001b[39m(\u001b[33mf\u001b[39m\u001b[33m\"\u001b[39m\u001b[33mstatus \u001b[39m\u001b[38;5;132;01m{\u001b[39;00mr.status_code\u001b[38;5;132;01m}\u001b[39;00m\u001b[33m\"\u001b[39m)\n\u001b[32m     12\u001b[39m r_json=r.json()\n\u001b[32m---> \u001b[39m\u001b[32m13\u001b[39m r_data=\u001b[43mr_json\u001b[49m\u001b[43m[\u001b[49m\u001b[33;43m'\u001b[39;49m\u001b[33;43mdata\u001b[39;49m\u001b[33;43m'\u001b[39;49m\u001b[43m]\u001b[49m\n\u001b[32m     14\u001b[39m \u001b[38;5;28mprint\u001b[39m(\u001b[33mf\u001b[39m\u001b[33m'\u001b[39m\u001b[33mcontent \u001b[39m\u001b[38;5;132;01m{\u001b[39;00mr_json\u001b[38;5;132;01m}\u001b[39;00m\u001b[33m'\u001b[39m)\n",
      "\u001b[31mTypeError\u001b[39m: list indices must be integers or slices, not str"
     ]
    }
   ],
   "source": [
    "import requests\n",
    "import json\n",
    "pa_ip='172.16.12.1'\n",
    "email=\"irzan@juniper.net\"\n",
    "password=\"J4k4rt4#170845\"\n",
    "login_id=(email,password)\n",
    "org_id='94fdbf5a-222a-43f2-837c-c79418e4fc12'\n",
    "url = f\"http://{pa_ip}/api/v1/orgs/{org_id}/sites\"\n",
    "print(url)\n",
    "r=requests.get(url,verify=False,auth=login_id)\n",
    "print(f\"status {r.status_code}\")\n",
    "r_json=r.json()\n",
    "print(f'content {r_json}')\n"
   ]
  },
  {
   "cell_type": "code",
   "execution_count": null,
   "id": "1f07ccd4-781f-4150-83e9-78598b6e5c68",
   "metadata": {},
   "outputs": [],
   "source": []
  }
 ],
 "metadata": {
  "kernelspec": {
   "display_name": "Python 3 (ipykernel)",
   "language": "python",
   "name": "python3"
  },
  "language_info": {
   "codemirror_mode": {
    "name": "ipython",
    "version": 3
   },
   "file_extension": ".py",
   "mimetype": "text/x-python",
   "name": "python",
   "nbconvert_exporter": "python",
   "pygments_lexer": "ipython3",
   "version": "3.13.3"
  }
 },
 "nbformat": 4,
 "nbformat_minor": 5
}
