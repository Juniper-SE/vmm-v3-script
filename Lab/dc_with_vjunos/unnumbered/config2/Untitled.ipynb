{
 "cells": [
  {
   "cell_type": "code",
   "execution_count": 67,
   "id": "e709cea9",
   "metadata": {},
   "outputs": [],
   "source": [
    "import yaml\n",
    "from jinja2 import Template\n",
    "f1=open(\"junos.j2\")\n",
    "jt=f1.read()\n",
    "f1.close()\n",
    "f1=open(\"topo1.yaml\")\n",
    "d1=yaml.load(f1,Loader=yaml.FullLoader)\n",
    "f1.close()"
   ]
  },
  {
   "cell_type": "code",
   "execution_count": 41,
   "id": "e5be9b9e",
   "metadata": {},
   "outputs": [
    {
     "data": {
      "text/plain": [
       "{'type': 'leaf',\n",
       " 'lo0': '2001:dead:beef:ffff::12',\n",
       " 'router_id': '10.1.100.12',\n",
       " 'intf': ['xe-0/0/0.0', 'xe-0/0/1.0'],\n",
       " 'bgp': {'underlay': {'local-as': 65012},\n",
       "  'overlay': {'local-as': 4200065012,\n",
       "   'neighbor': [{'remote-peer': '2001:dead:beef:ffff::1',\n",
       "     'remote-as': 4200065001},\n",
       "    {'remote-peer': '2001:dead:beef:ffff::2', 'remote-as': 4200065002}]}}}"
      ]
     },
     "execution_count": 41,
     "metadata": {},
     "output_type": "execute_result"
    }
   ],
   "source": [
    "d1['switch']['leaf2']"
   ]
  },
  {
   "cell_type": "code",
   "execution_count": 69,
   "id": "776a12b8",
   "metadata": {},
   "outputs": [
    {
     "name": "stdout",
     "output_type": "stream",
     "text": [
      "interfaces {\n",
      "\txe-0/0/0.0 {\n",
      "\t\t\tunit 0 {\n",
      "\t\t\t\tfamily inet;\n",
      "\t\t\t\tfamily inet6;\n",
      "\t\t\t}\n",
      "\t\t}\n",
      "\txe-0/0/1.0 {\n",
      "\t\t\tunit 0 {\n",
      "\t\t\t\tfamily inet;\n",
      "\t\t\t\tfamily inet6;\n",
      "\t\t\t}\n",
      "\t\t}\n",
      "\tlo0 {\n",
      "\tunit 0 {\n",
      "\t\tfamily inet6 {\n",
      "\t\t\taddress 2001:dead:beef:ffff::11;\n",
      "\t\t}\n",
      "\t}\n",
      "\t}\n",
      "}\n",
      "policy-options {\n",
      "    policy-statement DIRECT-RTS {\n",
      "\t\tterm 1 {\n",
      "\t\t\tfrom protocol direct;\n",
      "\t\t\tthen accept;\n",
      "\t\t}\n",
      "\t\tterm default {\n",
      "\t\t\tthen reject;\n",
      "\t\t}\n",
      "\t\t}\n",
      "\t\n",
      "    policy-statement lb {\n",
      "        then {\n",
      "            load-balance per-packet;\n",
      "        }\n",
      "    }\n",
      "    as-list a-list members ;\n",
      "}\n",
      "routing-options {\n",
      "    router-id 10.1.100.11;\n",
      "    forwarding-table {\n",
      "        export lb;\n",
      "    }\n",
      "}\n",
      "protocols {\n",
      "    router-advertisement {\n",
      "\t\tinterface xe-0/0/0.0.0;\n",
      "\t\tinterface xe-0/0/1.0.0;\n",
      "\t\t}\n",
      "    bgp {\n",
      "        group auto-disc {\n",
      "            family inet6 {\n",
      "                unicast;\n",
      "            }\n",
      "            export DIRECT-RTS;\n",
      "            local-as 65011;\n",
      "            multipath {\n",
      "                multiple-as;\n",
      "            }\n",
      "            dynamic-neighbor FABRIC {\n",
      "                peer-auto-discovery {\n",
      "                    family inet6 {\n",
      "                        ipv6-nd;\n",
      "                    }\n",
      "\t\t\t\t\tinterface xe-0/0/0.0.0;\n",
      "\t\t\t\t\tinterface xe-0/0/1.0.0;\n",
      "\t\t\t\t\t}\n",
      "            }\n",
      "            peer-as-list a-list;\n",
      "        }\n",
      "        group overlay-ipv6-ebgp {\n",
      "            type external;\n",
      "            multihop {\n",
      "                no-nexthop-change;\n",
      "            }\n",
      "            local-address 2001:dead:beef:ffff::11;\n",
      "            family evpn {\n",
      "                signaling;\n",
      "            }\n",
      "            local-as 4200065011;\n",
      "            multipath {\n",
      "                multiple-as;\n",
      "            }\n",
      "\t\t\tneighbor 2001:dead:beef:ffff::1 {\n",
      "                peer-as 4200065001;\n",
      "            }\n",
      "\n",
      "\t\t\tneighbor 2001:dead:beef:ffff::2 {\n",
      "                peer-as 4200065002;\n",
      "            }\n",
      "\n",
      "\t\t\t}\n",
      "        multipath {\n",
      "            multiple-as;\n",
      "        }\n",
      "    }\n",
      "}\n",
      "\n",
      "chassis {\n",
      "    aggregated-devices {\n",
      "        ethernet {\n",
      "            device-count 8;\n",
      "        }\n",
      "    }\n",
      "}\n",
      "forwarding-options {\n",
      "    evpn-vxlan {\n",
      "        shared-tunnels;\n",
      "    }\n",
      "}\n",
      "\n"
     ]
    }
   ],
   "source": [
    "d1['switch']['spine1']['as_list']=d1['global']['as_list']\n",
    "print(Template(jt).render(d1['switch']['leaf1']))"
   ]
  },
  {
   "cell_type": "code",
   "execution_count": null,
   "id": "9fe5c1e6",
   "metadata": {},
   "outputs": [],
   "source": []
  }
 ],
 "metadata": {
  "kernelspec": {
   "display_name": "Python 3 (ipykernel)",
   "language": "python",
   "name": "python3"
  },
  "language_info": {
   "codemirror_mode": {
    "name": "ipython",
    "version": 3
   },
   "file_extension": ".py",
   "mimetype": "text/x-python",
   "name": "python",
   "nbconvert_exporter": "python",
   "pygments_lexer": "ipython3",
   "version": "3.10.2"
  }
 },
 "nbformat": 4,
 "nbformat_minor": 5
}
